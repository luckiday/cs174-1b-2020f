{
 "cells": [
  {
   "cell_type": "markdown",
   "metadata": {
    "slideshow": {
     "slide_type": "slide"
    }
   },
   "source": [
    "# CS-174A Discussion 1B, Week 4\n",
    "\n",
    "@ Yunqi Guo\n",
    "\n",
    "@ Instructor: Dr. Asish Law\n",
    "\n",
    "@ https://github.com/luckiday/cs174a-1b-2020f"
   ]
  },
  {
   "cell_type": "markdown",
   "metadata": {
    "slideshow": {
     "slide_type": "slide"
    }
   },
   "source": [
    "# Logistics\n",
    "\n",
    "- Assignment due updates\n",
    "- Online midterm instructions "
   ]
  },
  {
   "cell_type": "markdown",
   "metadata": {
    "slideshow": {
     "slide_type": "slide"
    }
   },
   "source": [
    "# Last time\n",
    "\n",
    "- Quiz: Pumpkin problem \n",
    "- Group Project Requirements\n",
    "- Assignment 3 (Part 1)\n",
    "- Blender \n",
    "\n",
    "# Next up\n",
    "\n",
    "- Assignment 3\n",
    "- Change of Basis and Model-view transformation\n",
    "- Midterm review"
   ]
  },
  {
   "cell_type": "markdown",
   "metadata": {
    "slideshow": {
     "slide_type": "slide"
    }
   },
   "source": [
    "\n",
    "## Change of Basis and Model-view transformation\n",
    "\n",
    "<img src=\"figures/view_coord.png\" alt=\"drawing\" style=\"width:400px;\"/>"
   ]
  },
  {
   "cell_type": "markdown",
   "metadata": {
    "slideshow": {
     "slide_type": "subslide"
    }
   },
   "source": [
    "\n",
    "<img src=\"figures/pumpkin.png\" alt=\"drawing\" width=\"600\"/>"
   ]
  },
  {
   "cell_type": "markdown",
   "metadata": {
    "slideshow": {
     "slide_type": "slide"
    }
   },
   "source": [
    "# Midterm Review\n"
   ]
  },
  {
   "cell_type": "markdown",
   "metadata": {
    "slideshow": {
     "slide_type": "subslide"
    }
   },
   "source": [
    "Q: What is the diff between affine combinations and convex combination of points?\n"
   ]
  },
  {
   "cell_type": "markdown",
   "metadata": {
    "slideshow": {
     "slide_type": "subslide"
    }
   },
   "source": [
    "## Points and Vectors\n",
    "\n",
    "Q: Parametric equations of line and triangle (barycentric coordinamtes)"
   ]
  },
  {
   "cell_type": "markdown",
   "metadata": {
    "slideshow": {
     "slide_type": "subslide"
    }
   },
   "source": [
    "A:\n",
    "\n",
    "- *Line*: $P = \\alpha_1 P_1 + \\alpha_2 P_2$, and  $\\alpha_1 + \\alpha_2 = 1$.\n",
    "- *Triangle*: \n",
    "  <img src=\"./figure/triangle.png\" alt=\"drawing\" width=\"300\"/>"
   ]
  },
  {
   "cell_type": "markdown",
   "metadata": {
    "slideshow": {
     "slide_type": "subslide"
    }
   },
   "source": [
    "## Points and Vectors\n",
    "\n",
    "Q: Parametric equations of line and triangle (barycentric coordinamtes)"
   ]
  },
  {
   "cell_type": "markdown",
   "metadata": {
    "slideshow": {
     "slide_type": "subslide"
    }
   },
   "source": [
    "A: *Barycentric coordinates*\n",
    "\n",
    "Triangle is convex so any point inside can be represented as an affine sum\n",
    "\n",
    "$$\n",
    "P(a1, a2, a3)=a1P+a2Q+a3R\n",
    "$$\n",
    "where \n",
    "$$\n",
    "a1 +a2 +a3 = 1,\n",
    "a_i\\geq0\n",
    "$$\n",
    "The representation is called the barycentric coordinate representation of P."
   ]
  },
  {
   "cell_type": "markdown",
   "metadata": {
    "slideshow": {
     "slide_type": "subslide"
    }
   },
   "source": [
    "## Viewing\n",
    "<img src=\"./figure/look.png\" alt=\"drawing\" width=\"400\"/>"
   ]
  },
  {
   "cell_type": "markdown",
   "metadata": {
    "slideshow": {
     "slide_type": "subslide"
    }
   },
   "source": [
    "### Projection\n",
    "\n",
    "- Orthographic projection matrix:\n",
    "$$\n",
    "N=\\text{ST}=\\left(\n",
    "\\begin{array}{cccc}\n",
    " \\frac{2}{r-l} & 0 & 0 & -\\frac{l+r}{r-l} \\\\\n",
    " 0 & \\frac{2}{t-b} & 0 & -\\frac{b+t}{t-b} \\\\\n",
    " 0 & 0 & -\\frac{2}{f-n} & -\\frac{f+n}{f-n} \\\\\n",
    " 0 & 0 & 0 & 1 \\\\\n",
    "\\end{array}\n",
    "\\right)\n",
    "$$\n"
   ]
  },
  {
   "cell_type": "markdown",
   "metadata": {
    "slideshow": {
     "slide_type": "subslide"
    }
   },
   "source": [
    "- Perspective projection matrix:\n",
    "    \n",
    "$$\n",
    "P=NSH=\\left(\n",
    "\\begin{array}{cccc}\n",
    " \\frac{n}{r} & 0 & 0 & 0 \\\\\n",
    " 0 & \\frac{n}{t} & 0 & 0 \\\\\n",
    " 0 & 0 & -\\frac{f+n}{f-n} & -\\frac{2 f n}{f-n} \\\\\n",
    " 0 & 0 & -1 & 0 \\\\\n",
    "\\end{array}\n",
    "\\right)\n",
    "$$"
   ]
  },
  {
   "cell_type": "markdown",
   "metadata": {
    "slideshow": {
     "slide_type": "subslide"
    }
   },
   "source": [
    "- Derivation\n",
    "$$\n",
    "N=\\left(\n",
    "\\begin{array}{cccc}\n",
    " 1 & 0 & 0 & 0 \\\\\n",
    " 0 & 1 & 0 & 0 \\\\\n",
    " 0 & 0 & a & b \\\\\n",
    " 0 & 0 & -1 & 0 \\\\\n",
    "\\end{array}\n",
    "\\right)\n",
    "$$\n",
    "  After perspective division, the point $(x, y, z, 1)$ goes to\n",
    "$$\n",
    "x’’ = -x/z,~~\n",
    "y’’ = -y/z,~~\n",
    "z’’ = -(a+b/z)\n",
    "$$\n",
    "\n",
    "  When $z = f, z'' = -1$; when $z = n, z'' = 1$."
   ]
  },
  {
   "cell_type": "markdown",
   "metadata": {
    "slideshow": {
     "slide_type": "slide"
    }
   },
   "source": [
    "# Sample Questions\n",
    "\n",
    "1. Q: Briefly describe what changes you would expect to see in the image with respect to the following changes in viewing parameters, all other params remaining unchanged:\n",
    "\n",
    "    1. Half-angle-of-view decreases\n",
    "\n",
    "    2. Aspect ratio increases\n",
    "\n",
    "    3. COI moves closer to eye point\n",
    "\n",
    "    4. Eye point moves away from COI\n",
    "\n",
    "    5. Top vector becomes upside down\n",
    "    \n",
    "    6. Distance between hither and yon increases"
   ]
  },
  {
   "cell_type": "markdown",
   "metadata": {
    "slideshow": {
     "slide_type": "subslide"
    }
   },
   "source": [
    "1. Answers:\n",
    "\n",
    "    1. Half-angle-of-view decreases: objects will project larger on window and viewport, because camera is now capturing lesser volume of the scene while image size remains same\n",
    "\n",
    "    2. Aspect ratio increases: AR increases implies viewport became wider or the height decreased; if angle did not change then some objects may be clipped off; the final image will definitely look wider\n",
    "\n",
    "    3. COI moves closer to eye point: no change in image\n",
    "\n",
    "    4. Eye point moves away from COI: a different image will be grabbed because the location of eye changed\n",
    "\n",
    "    5. Top vector becomes upside down: image will turn upside down\n",
    "\n",
    "    6. Distance between hither and yon increases: depending on which direction H and Y moves, more or less objects will be included in the view volume"
   ]
  },
  {
   "cell_type": "markdown",
   "metadata": {
    "slideshow": {
     "slide_type": "subslide"
    }
   },
   "source": [
    "2. Please calculate the transformation matrices of point $P$ in the following settings:\n",
    "\n",
    "    1. Move point $P$ up for 1 unit and rotate 90 degrees according to $+z$ axis. Calculate the transformation matrix\n",
    "    \n",
    "    2. The camera is located at $(-10, 0, 0)$ pointing to direction $(0,0,0)$. The up direction is $(0,1,0)$. Calculate the model-view transformation matrix. \n",
    "    \n",
    "    3. If the orthographic projection setting is \n",
    "    \n",
    "        $n = 0, f = 20, l = -10, r = 10, b = -10, t = 10$\n",
    "       \n",
    "       Calculate the project matrix.\n",
    "    \n",
    "    4. If $P$ is located at $(1,1,1)$ initially, what's $P$'s position after projection."
   ]
  }
 ],
 "metadata": {
  "celltoolbar": "Slideshow",
  "kernelspec": {
   "display_name": "Python 3",
   "language": "python",
   "name": "python3"
  },
  "language_info": {
   "codemirror_mode": {
    "name": "ipython",
    "version": 3
   },
   "file_extension": ".py",
   "mimetype": "text/x-python",
   "name": "python",
   "nbconvert_exporter": "python",
   "pygments_lexer": "ipython3",
   "version": "3.8.5"
  }
 },
 "nbformat": 4,
 "nbformat_minor": 2
}
