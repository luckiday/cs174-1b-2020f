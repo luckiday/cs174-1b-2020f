{
 "cells": [
  {
   "cell_type": "markdown",
   "metadata": {},
   "source": [
    "# CS-174A Discussion 1B, Week 1\n",
    "\n",
    "@ Yunqi Guo\n",
    "\n",
    "@ Instructor: Dr. Asish Law\n",
    "\n",
    "@ https://github.com/luckiday/cs174a-1b-2020f"
   ]
  },
  {
   "cell_type": "markdown",
   "metadata": {},
   "source": [
    "# Logistics\n",
    "\n",
    "- End-to-end midterm mockup during next Friday’s TA session (Oct 16)\n",
    "- Assignment 1 due Oct. 11 11:59pm\n",
    "- Assignemnt 2 due Oct. 25 11:59pm"
   ]
  },
  {
   "cell_type": "markdown",
   "metadata": {},
   "source": [
    "# Outline\n",
    "\n",
    "- WebGL Programming\n",
    "- Assignment 2 (Part 1) \n",
    "    - Shape"
   ]
  },
  {
   "cell_type": "markdown",
   "metadata": {},
   "source": [
    "# WebGL Programming\n",
    "\n",
    "## Geometric Pipeline\n",
    "\n",
    "![](figures/pipeline.png)"
   ]
  },
  {
   "cell_type": "markdown",
   "metadata": {},
   "source": [
    "# Assignment 2\n"
   ]
  },
  {
   "cell_type": "markdown",
   "metadata": {},
   "source": [
    "# Quiz\n",
    "\n",
    "-  What is the difference between linear, affine and convex combination?"
   ]
  },
  {
   "cell_type": "code",
   "execution_count": null,
   "metadata": {},
   "outputs": [],
   "source": []
  }
 ],
 "metadata": {
  "kernelspec": {
   "display_name": "Python 3",
   "language": "python",
   "name": "python3"
  },
  "language_info": {
   "codemirror_mode": {
    "name": "ipython",
    "version": 3
   },
   "file_extension": ".py",
   "mimetype": "text/x-python",
   "name": "python",
   "nbconvert_exporter": "python",
   "pygments_lexer": "ipython3",
   "version": "3.8.5"
  }
 },
 "nbformat": 4,
 "nbformat_minor": 4
}
