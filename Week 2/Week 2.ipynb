{
 "cells": [
  {
   "cell_type": "markdown",
   "metadata": {
    "slideshow": {
     "slide_type": "slide"
    }
   },
   "source": [
    "# CS-174A Discussion 1B, Week 2\n",
    "\n",
    "@ Yunqi Guo\n",
    "\n",
    "@ Instructor: Dr. Asish Law\n",
    "\n",
    "@ https://github.com/luckiday/cs174a-1b-2020f"
   ]
  },
  {
   "cell_type": "markdown",
   "metadata": {
    "slideshow": {
     "slide_type": "slide"
    }
   },
   "source": [
    "# Outline\n",
    "\n",
    "### Last week\n",
    "- WebGL Programming\n",
    "- Assignment 2 (Part 1) \n",
    "    - Shape\n",
    "- Quiz\n",
    "\n",
    "### Next up\n",
    "- Assignment 2 (Part 2)\n",
    "    - Transformation\n",
    "    - Triangle Strip\n",
    "- Mockup Midterm"
   ]
  },
  {
   "cell_type": "markdown",
   "metadata": {
    "slideshow": {
     "slide_type": "subslide"
    }
   },
   "source": [
    "## Quiz\n",
    "\n",
    "-  Difference between linear, affine and convex combination"
   ]
  },
  {
   "cell_type": "markdown",
   "metadata": {
    "slideshow": {
     "slide_type": "slide"
    }
   },
   "source": [
    "# Transformation in Homogeneous Coordinate System\n",
    "\n",
    "- Translation\n",
    "- Scaling\n",
    "- Rotation\n",
    "- Shearing"
   ]
  },
  {
   "cell_type": "markdown",
   "metadata": {
    "slideshow": {
     "slide_type": "subslide"
    }
   },
   "source": [
    "## Translation\n",
    "$$\n",
    "\\begin{pmatrix}\n",
    " x' \\\\\n",
    " y' \\\\\n",
    " z' \\\\\n",
    " 1 \\\\\n",
    "\\end{pmatrix}\n",
    "=\n",
    "\\begin{pmatrix}\n",
    " 1 & 0 & 0 & t_x \\\\\n",
    " 0 & 1 & 0 & t_y \\\\\n",
    " 0 & 0 & 1 & t_z \\\\\n",
    " 0 & 0 & 0 & 1 \\\\\n",
    "\\end{pmatrix}\n",
    "\\begin{pmatrix}\n",
    " x \\\\\n",
    " y \\\\\n",
    " z \\\\\n",
    " 1 \\\\\n",
    "\\end{pmatrix}\n",
    "$$"
   ]
  },
  {
   "cell_type": "markdown",
   "metadata": {
    "slideshow": {
     "slide_type": "subslide"
    }
   },
   "source": [
    "## Scaling\n",
    "$$\n",
    "\\begin{pmatrix}\n",
    " x' \\\\\n",
    " y' \\\\\n",
    " z' \\\\\n",
    " 1 \\\\\n",
    "\\end{pmatrix}\n",
    "\\begin{pmatrix}\n",
    " s_x & 0 & 0 & 0 \\\\\n",
    " 0 & s_y & 0 & 0 \\\\\n",
    " 0 & 0 & s_z & 0 \\\\\n",
    " 0 & 0 & 0 & 1 \\\\\n",
    "\\end{pmatrix}\n",
    "\\begin{pmatrix}\n",
    " x \\\\\n",
    " y \\\\\n",
    " z \\\\\n",
    " 1 \\\\\n",
    "\\end{pmatrix}\n",
    "$$"
   ]
  },
  {
   "cell_type": "markdown",
   "metadata": {
    "slideshow": {
     "slide_type": "subslide"
    }
   },
   "source": [
    "## Rotation\n",
    "**Rotate about $z-$axis**:\n",
    "$$\n",
    "\\begin{pmatrix}\n",
    " x' \\\\\n",
    " y' \\\\\n",
    " z' \\\\\n",
    " 1 \\\\\n",
    "\\end{pmatrix}\n",
    "=\n",
    "\\begin{pmatrix}\n",
    " \\cos (\\theta ) & -\\sin (\\theta ) & 0 & 0 \\\\\n",
    " \\sin (\\theta ) & \\cos (\\theta ) & 0 & 0 \\\\\n",
    " 0 & 0 & 1 & 0 \\\\\n",
    " 0 & 0 & 0 & 1 \\\\\n",
    "\\end{pmatrix}\n",
    "\\begin{pmatrix}\n",
    " x \\\\\n",
    " y \\\\\n",
    " z \\\\\n",
    " 1 \\\\\n",
    "\\end{pmatrix}\n",
    "$$"
   ]
  },
  {
   "cell_type": "markdown",
   "metadata": {
    "slideshow": {
     "slide_type": "subslide"
    }
   },
   "source": [
    "E.g. when $\\theta=\\pi/4$, \n",
    "$$\n",
    "R = \n",
    "\\begin{pmatrix}\n",
    " \\frac{1}{\\sqrt{2}} & -\\frac{1}{\\sqrt{2}} & 0 & 0 \\\\\n",
    " \\frac{1}{\\sqrt{2}} & \\frac{1}{\\sqrt{2}} & 0 & 0 \\\\\n",
    " 0 & 0 & 1 & 0 \\\\\n",
    " 0 & 0 & 0 & 1 \\\\\n",
    "\\end{pmatrix}\n",
    "$$"
   ]
  },
  {
   "cell_type": "markdown",
   "metadata": {
    "slideshow": {
     "slide_type": "subslide"
    }
   },
   "source": [
    "## Shear\n",
    "\n",
    "$$x' = x + \\mathrm{Sh}_{x}^{y} y + \\mathrm{Sh}_{x}^{z} z$$\n",
    "\n",
    "$$y' = \\mathrm{Sh}_{y}^{x}x + y +\\mathrm{Sh}_{y}^{z}z$$\n",
    "\n",
    "$$z' = \\mathrm{Sh}_{z}^{x}x + \\mathrm{Sh}_{z}^{y}y + z$$\n",
    "\n",
    "$$\n",
    "\\begin{pmatrix}\n",
    " x' \\\\\n",
    " y' \\\\\n",
    " z' \\\\\n",
    " 1 \\\\\n",
    "\\end{pmatrix}\n",
    "=\n",
    "\\begin{pmatrix}\n",
    " 1 & \\mathrm{Sh}_{x}^{y} & \\mathrm{Sh}_{x}^{z} & 0 \\\\\n",
    " \\mathrm{Sh}_{y}^{x} & 1 & \\mathrm{Sh}_{y}^{z} & 0 \\\\\n",
    " \\mathrm{Sh}_{z}^{x} & \\mathrm{Sh}_{z}^{y} & 1 & 0 \\\\\n",
    " 0 & 0 & 0 & 1 \\\\\n",
    "\\end{pmatrix}\n",
    "\\begin{pmatrix}\n",
    " x \\\\\n",
    " y \\\\\n",
    " z \\\\\n",
    " 1 \\\\\n",
    "\\end{pmatrix}\n",
    "$$"
   ]
  },
  {
   "cell_type": "markdown",
   "metadata": {
    "slideshow": {
     "slide_type": "subslide"
    }
   },
   "source": [
    "# Transformations are NOT commutative.\n",
    "\n",
    "- Matrix multiplication is not commutative.\n",
    "  - When performing multiple rotation transformations.\n",
    "  - The order of transformation types matters.\n",
    "  - i.e. $q=TRSTp$ is not the same as $q=TSRTp$"
   ]
  },
  {
   "cell_type": "markdown",
   "metadata": {
    "slideshow": {
     "slide_type": "subslide"
    }
   },
   "source": [
    "# Triangle Strip\n",
    "\n",
    "A triangle strip is a series of connected triangles from the triangle mesh, sharing vertices, allowing for more efficient memory usage for computer graphics. \n",
    "\n",
    "![](figures/Triangle_Strip_Small.png)"
   ]
  },
  {
   "cell_type": "markdown",
   "metadata": {
    "slideshow": {
     "slide_type": "slide"
    }
   },
   "source": [
    "# Mock Midterm\n",
    "\n",
    "### Posting Exam\n",
    "- Download Questions from `CCLE-CS174A-Midterm-Mock Online Exam for CS174A, Fall 2020 Assignment`\n",
    "\n",
    "### Writing Exam\n",
    "- Print exam and answer each question (2 sheets)\n",
    "- If not able to print, just answer on blank paper\n",
    "- Make sure each page has your name, id, question # and page #\n",
    "- If you use iPad to write exam, there'll be extra level of monitoring total\n",
    "- Write  # of pages on last sheet\n",
    "\n",
    "### Submitting Exam\n",
    "\n",
    "- Use CamScanner or similar app to scan exam into a single PDF (2 sheets)\n",
    "- Upload PDF in `CCLE-Gradescope-Mockup Midterm` and match your responses individually with each questions\n",
    "- Ensure you've uploaded all answer sheets, resubmissions will not be allowed\n"
   ]
  }
 ],
 "metadata": {
  "celltoolbar": "Slideshow",
  "kernelspec": {
   "display_name": "Python 3",
   "language": "python",
   "name": "python3"
  },
  "language_info": {
   "codemirror_mode": {
    "name": "ipython",
    "version": 3
   },
   "file_extension": ".py",
   "mimetype": "text/x-python",
   "name": "python",
   "nbconvert_exporter": "python",
   "pygments_lexer": "ipython3",
   "version": "3.8.5"
  }
 },
 "nbformat": 4,
 "nbformat_minor": 4
}
